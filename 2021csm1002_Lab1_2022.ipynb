{
  "nbformat": 4,
  "nbformat_minor": 0,
  "metadata": {
    "colab": {
      "provenance": [],
      "collapsed_sections": []
    },
    "kernelspec": {
      "name": "python3",
      "display_name": "Python 3"
    },
    "language_info": {
      "name": "python"
    }
  },
  "cells": [
    {
      "cell_type": "markdown",
      "source": [
        "# CS512 (AI) Lab Assignment - 1 \n",
        "\n",
        "###**Due on: 6th Feb 2022 2400 Hrs | Total Marks: 100**\n",
        "\n",
        "**Submission Instructions**:\n",
        "\n",
        "All submission is through google classroom submitting the colab (.ipynb file). In case you face any trouble with the submission, please contact the TAs:\n",
        "\n",
        "*   Armaan Garg, 2019CSZ0002@iitrpr.ac.in\n",
        "*   Shivam Kainth shivam.20csz0006@iitrpr.ac.in\n",
        "\n",
        "Your submission must be your original work. Do not indulge in any kind of plagiarism or copying. Abide by the honour and integrity code to do your assignment.\n",
        "\n",
        "\n",
        "\n",
        "**Penalty Policy**: Late submissions will attract penalties. There will be a penalty of 5% for every 24 Hr delay in the submission. E.g. for 1st 24 Hr delay the penalty will be 5%, for submission with a delay of >24 Hr and < 48 Hr, the penalty will be 10% and so on.\n",
        "\n",
        "All the plots and observations should be added to the colab notebook itself.\n",
        "\n",
        "**Naming Convention**:\n",
        "\n",
        "Name the colab file submission as follows: Name_rollnumber_Labnumber.ipynb\n",
        "E.g. if your name is ABC, roll number is 2019csx1234 and submission is for assignment1 then you should name the colab file as: ABC_2019csx1234_Lab1.ipynb\n"
      ],
      "metadata": {
        "id": "n1fXRmG192rR"
      }
    },
    {
      "cell_type": "markdown",
      "source": [
        "The purpose of this assignment is to exercise your basic understanding of intelligent agents and state space search, and to help you apply these concepts.\n",
        "In this assignment, you will be experimenting with different AI search techniques that has been discussed in class. You are provided with a starter code for this. The code consists of several segments, some of which you will need to read and understand to complete the assignment, and some of which you can ignore.\n"
      ],
      "metadata": {
        "id": "BhXaj0hb_CWz"
      }
    },
    {
      "cell_type": "markdown",
      "source": [
        "# Problem Statement 1 (60 marks)"
      ],
      "metadata": {
        "id": "0lKdiao__yxQ"
      }
    },
    {
      "cell_type": "markdown",
      "source": [
        "##Save the world from Cersei Lannister (in a maze game setup).##\n",
        "\n",
        "Story:\n",
        "Melisandre, also known as red woman, was born in the city of Melony (this city lies in the centre of the maze world), and is known to have supernatural powers. She has been known to be lived for 2000 years and used her sorcery to save the world from evil lannisters. It has been recently known that her immortality comes from the pendant she wears and few wise men say that the owner can only live for a few seconds without the magical pendant.\t\n",
        "But on a very dark day, evil Cersei Lannister stole her pendant and hidden herself into an unknown city of labyrinths. Now it’s our time to save the world and find Cersei as soon as possible and return the pendant to Melisandre and return balance to the world. Thanks to AI this could be done in a very fast and efficient manner. \n",
        "Agent Jon Snow (the AI master) is put up to the task of finding the pendant. Thanks to agent Snow we came to know the location of where cercei is hiding and we also have the maze world map. But it will take ages for a person to reach there but with agent snow’s AI mastership this could be done in mere seconds. \n",
        "_______________________________________\n",
        "\n",
        "The maze world is generated from empty grid and then adding walls of random length to random locations.\n",
        "\n",
        "The goal is to find a path from corner to corner. Possible moves are Up, Down, Left or Right. Distance or length is measured with manhattan distance which is the sum of vertical and horizontal lengths.\n",
        "\n",
        "Algorithms to compare to find a path :\n",
        "\n",
        "\n",
        "*   BFS: breadth first search (10 marks)\n",
        "*   DFS: depth first search  (10 marks)\n",
        "*   UCS: Uniform-Cost Search  (10 marks)\n",
        "*   IDS: Iterative Deepning Search (10 marks)\n",
        "*   A* (A-star) heuristic Search (20 marks)\n",
        "\n",
        "\n",
        "### Write code in Algorithm section below###\n",
        "\n",
        "There are two performance metrics:\n",
        "\n",
        "1.   Number of nodes explored\n",
        "2.   Time taken for execution\n",
        "\n",
        "###You need to plot graphs for both the metrics. Also, write your observations by pointing out the key differnces among the algorithms. (Use Graph plots & Observations section below to write your code)###"
      ],
      "metadata": {
        "id": "nmwQLEet_1zK"
      }
    },
    {
      "cell_type": "markdown",
      "source": [
        "# The maze"
      ],
      "metadata": {
        "id": "DfIALoWOV7oV"
      }
    },
    {
      "cell_type": "code",
      "source": [
        "import numpy as np\n",
        "from queue import Queue\n",
        "from queue import PriorityQueue\n",
        "from queue import deque\n",
        "from copy import deepcopy\n",
        "import random\n",
        "\n",
        "def create_maze(size, n_walls, length_walls=0.3):\n",
        "    maze = np.ones((size, size), dtype=bool)\n",
        "\n",
        "    for i in range(n_walls):\n",
        "        row, col = np.random.randint(0, size - 1, 2)\n",
        "\n",
        "        wall = np.random.poisson(length_walls) * np.random.choice([-1, 1])\n",
        "\n",
        "        if np.random.choice([True, False]):\n",
        "            row = make_range(row, wall, size)\n",
        "        else:\n",
        "            col = make_range(col, wall, size)\n",
        "\n",
        "        maze[row, col] = False\n",
        "\n",
        "    maze[0, 0] = True\n",
        "    maze[size - 1, size - 1] = True\n",
        "    return maze\n",
        "\n",
        "\n",
        "def make_range(start, length, m):\n",
        "    d = np.clip(np.array([start + length, start]), 0, m - 1)\n",
        "    return list(range(d.min(), d.max() + 1))\n"
      ],
      "metadata": {
        "id": "Mhge1BnnVmp1"
      },
      "execution_count": null,
      "outputs": []
    },
    {
      "cell_type": "markdown",
      "source": [
        "# Algorithm section"
      ],
      "metadata": {
        "id": "hBCWnzRlWJI_"
      }
    },
    {
      "cell_type": "code",
      "source": [
        "\"\"\"\n",
        "Write a function for each algorithm in this section\n",
        "\"\"\"\n",
        "\n",
        "\"\"\"\n",
        "Write a function for each algorithm in this section\n",
        "\"\"\"\n",
        "EAST = (0,1)\n",
        "WEST = (0,-1)\n",
        "NORTH = (-1,0)\n",
        "SOUTH = (1,0)\n",
        "\n",
        "# r_x = [0, 0, -1, 1]\n",
        "# r_y = [1, -1, 0, 0]\n",
        "\n",
        "# r_x = [0, -1,1,0]\n",
        "# r_y = [1, 0,0,-1]\n",
        "\n",
        "r_x = []\n",
        "r_y = []\n",
        "\n",
        "r_x.append(EAST[0])\n",
        "r_x.append(WEST[0])\n",
        "r_x.append(NORTH[0])\n",
        "r_x.append(SOUTH[0])\n",
        "\n",
        "r_y.append(EAST[1])\n",
        "r_y.append(WEST[1])\n",
        "r_y.append(NORTH[1])\n",
        "r_y.append(SOUTH[1])\n",
        "\n",
        "\n",
        "\n",
        "\n",
        "def is_cordinate_valid(i,j,N):\n",
        "    return (i >= 0) and (i < N) and (j >= 0) and (j < N)\n",
        "\n",
        "def can_ai_master_move(adj,maze,maze_size):\n",
        "    return is_cordinate_valid(adj[0],adj[1],maze_size) and maze[adj[0]][adj[1]]\n",
        "\n",
        "\n",
        "def dfs(maze, start, goal):\n",
        "\n",
        "    finished = False\n",
        "    maze_size = len(maze)\n",
        "    st = deque([])\n",
        "    visited = [[False for i in range(maze_size)] for j in range(maze_size)]\n",
        "    visited[start[0]][start[1]] = True\n",
        "    # visited = set([start])\n",
        "    explored_nodes = []\n",
        "    path = []\n",
        "    st.append(start)\n",
        "    map = {start: None}\n",
        "    while(len(st) > 0):\n",
        "        curr = st.pop()\n",
        "\n",
        "        # st.pop()\n",
        "        explored_nodes.append(curr)\n",
        "        if(curr[0] == goal[0] and curr[1] == goal[1]):\n",
        "            finished = True\n",
        "            break\n",
        "        # if(visited[curr[0]][curr[1]] == False):\n",
        "        #     visited[curr[0]][curr[1]] = True\n",
        "\n",
        "        for i in range(4):\n",
        "            p_x = curr[0]+r_x[i]\n",
        "            p_y = curr[1]+r_y[i]\n",
        "            adj = (p_x, p_y)\n",
        "            if(can_ai_master_move(adj, maze, maze_size) and visited[adj[0]][adj[1]] == False):\n",
        "                st.append(adj)\n",
        "                # visited.add(adj)\n",
        "                visited[adj[0]][adj[1]] = True\n",
        "                map[adj] = curr  # adj\n",
        "\n",
        "    if(finished):\n",
        "        cord = goal\n",
        "        while True:\n",
        "            path.append(cord)\n",
        "            cord = map[cord]\n",
        "            if(cord == start):\n",
        "                path.append(start)\n",
        "                break\n",
        "    return finished, explored_nodes, path\n",
        "\n",
        "\n",
        "def bfs(maze,start,goal):\n",
        "    finished = False\n",
        "    maze_size = len(maze) # n*n\n",
        "    q = Queue()\n",
        "    visited = [[False for i in range(maze_size)] for j in range(maze_size)]\n",
        "    path = []\n",
        "    explored_nodes = []\n",
        "    map = { start: None }\n",
        "    q.put(start)\n",
        "    # path.append(start)\n",
        "    visited[start[0]][start[1]] = True\n",
        "    while q.qsize() > 0:\n",
        "        curr = q.get()\n",
        "        explored_nodes.append(curr)\n",
        "        if( curr[0] == goal[0] and curr[1] == goal[1]):\n",
        "            finished = True\n",
        "            break\n",
        "        for i in range(4):\n",
        "            p_x = curr[0]+r_x[i]\n",
        "            p_y = curr[1]+r_y[i]\n",
        "            adj = (p_x,p_y)\n",
        "            if( can_ai_master_move(adj,maze,maze_size) and visited[adj[0]][adj[1]] == False ):\n",
        "                visited[adj[0]][adj[1]] = True\n",
        "                q.put(adj)\n",
        "                map[adj] = curr \n",
        "\n",
        "    if( finished ):\n",
        "        cord = goal\n",
        "        while True:\n",
        "            path.append(cord)\n",
        "            cord = map[cord]\n",
        "            if( cord == start ): \n",
        "                path.append(start)\n",
        "                break\n",
        "    return finished,explored_nodes,path\n",
        "\n",
        "def ucs(maze,start,goal):\n",
        "    p_q = PriorityQueue()\n",
        "    finished = False\n",
        "    maze_size = len(maze)\n",
        "    # visited = [[False for i in range(maze_size)] for j in range(maze_size)]\n",
        "    visited = set([start])\n",
        "    path = []\n",
        "    explored_nodes = []\n",
        "    cost_so_far = { start: 0}\n",
        "    map = { start: None }\n",
        "    goal_cost = 0\n",
        "    p_q.put((0,start))\n",
        "    # visited.add(start)\n",
        "    while(p_q.empty() == False):\n",
        "        # curr_tuple = p_q.get()\n",
        "        # curr = curr_tuple[1]\n",
        "        curr_cost,curr =  p_q.get()\n",
        "        explored_nodes.append(curr)\n",
        "        if(curr[0] == goal[0] and curr[1] == goal[1] ):\n",
        "            finished = True\n",
        "            goal_cost = cost_so_far[curr]\n",
        "            break\n",
        "        for i in range(4):\n",
        "            p_x = curr[0]+r_x[i]\n",
        "            p_y = curr[1]+r_y[i]\n",
        "            adj = (p_x,p_y)\n",
        "            if( can_ai_master_move(adj,maze,maze_size)  ):\n",
        "                new_cost = cost_so_far[curr] + 1\n",
        "                if( adj not in visited or new_cost < cost_so_far[adj]):\n",
        "                    visited.add(adj)\n",
        "                    cost_so_far[adj] = new_cost\n",
        "                    map[adj]=curr\n",
        "                    p_q.put((new_cost,adj))\n",
        "    if( finished ):\n",
        "        cord = goal\n",
        "        while True:\n",
        "            path.append(cord)\n",
        "            cord = map[cord]\n",
        "            if( cord == start ): \n",
        "                path.append(start)\n",
        "                break\n",
        "\n",
        "    return finished,explored_nodes,path\n",
        "\n",
        "\n",
        "\n",
        "def DLS(node,goal,limit,maze,maze_size,explored_nodes):\n",
        "    \n",
        "    st = deque([])\n",
        "    st.append(node)\n",
        "    visited = set([node[0]])\n",
        "    # visited = np.zeros((maze_size,maze_size))\n",
        "    # explored_nodes = []\n",
        "    came_from = { node[0] : None }\n",
        "\n",
        "    depth_dict = {}\n",
        "    depth_dict[node[0]] = 0\n",
        "    # visited[node[0][0]][node[0][1]] = 1\n",
        "    finished = False\n",
        "    while( len(st) > 0 ):\n",
        "        curr = st.pop()\n",
        "        # print(\"curr : \",curr)\n",
        "        n_d = curr[1]\n",
        "        explored_nodes.append(curr)\n",
        "        if curr[0] == goal:\n",
        "            finished= True\n",
        "            break\n",
        "        # if curr[1] < limit or depth_dict[curr[0]] <= limit :\n",
        "        #     break\n",
        "        if depth_dict[curr[0]] <= limit:\n",
        "\n",
        "          for i in range(4):\n",
        "              p_x = curr[0][0]+r_x[i]\n",
        "              p_y = curr[0][1]+r_y[i]\n",
        "              adj = (p_x,p_y)\n",
        "            \n",
        "              if( can_ai_master_move(adj,maze,maze_size) and adj not in visited ):\n",
        "                  # print(\"adj : \",adj,n_d+1)\n",
        "                  st.append([adj,n_d+1])\n",
        "                  depth_dict[adj] = depth_dict[curr[0]] + 1\n",
        "                  visited.add(adj)\n",
        "                  # visited[adj[0]][adj[1]] = 1\n",
        "                  # print(visited)\n",
        "                  came_from[adj] = curr[0]\n",
        "\n",
        "    return finished,explored_nodes,came_from\n",
        "\n",
        "def ids(maze,start,goal):\n",
        "    path=[]\n",
        "    maze_size = len(maze)\n",
        "    depth = 1\n",
        "    max_depth = len(maze)**2\n",
        "    finished = False\n",
        "    # prev_visited=set([])\n",
        "    # for depth in range(max_depth):\n",
        "    explored_nodes=[]\n",
        "    while depth <= max_depth:\n",
        "        # print(\"depth: \",depth)\n",
        "        finished,explored_nodes,came_from = DLS([start,0],goal,depth,maze,maze_size,explored_nodes)\n",
        "        # print(\"visited : \",visited)\n",
        "        if(finished):\n",
        "            cord = goal\n",
        "            while True:\n",
        "                path.append(cord)\n",
        "                cord = came_from[cord]\n",
        "                if(cord == start):\n",
        "                    path.append(start)\n",
        "                    break\n",
        "                \n",
        "            break\n",
        "        depth = depth * 2\n",
        "    return finished, explored_nodes, path\n",
        "\n",
        "\n",
        "def manhattan_heuristic(size):\n",
        "    def f(x):\n",
        "        return (size - 1 - x[0]) + (size - 1 - x[1])\n",
        "    return f\n",
        "\n",
        "\n",
        "def astar(maze,start,goal,heuristic):\n",
        "    path=[]\n",
        "    explored_nodes=[]\n",
        "    visited = set([])\n",
        "    came_from = { start: None }\n",
        "    cost_so_far = { start: 0 }\n",
        "    p_q = PriorityQueue()\n",
        "    maze_size = len(maze)\n",
        "    p_q.put((0, start))\n",
        "    finished = False\n",
        "    # visited.add(start)\n",
        "    while(p_q.empty() == False):\n",
        "        curr_cost, curr = p_q.get()\n",
        "        explored_nodes.append(curr)\n",
        "        if(curr[0] == goal[0] and curr[1] == goal[1]):\n",
        "            finished = True\n",
        "            goal_cost = cost_so_far[curr]\n",
        "            break\n",
        "        for i in range(4):\n",
        "            p_x = curr[0]+r_x[i]\n",
        "            p_y = curr[1]+r_y[i]\n",
        "            adj = (p_x, p_y)\n",
        "            if(can_ai_master_move(adj, maze, maze_size)):\n",
        "                new_cost = cost_so_far[curr] + 1\n",
        "                if(adj not in visited or new_cost < cost_so_far[adj]):\n",
        "                    visited.add(adj)\n",
        "                    cost_so_far[adj] = new_cost\n",
        "                    came_from[adj] = curr\n",
        "                    p_q.put((new_cost+heuristic(adj), adj))\n",
        "    if(finished):\n",
        "        cord = goal\n",
        "        while True:\n",
        "            path.append(cord)\n",
        "            cord = came_from[cord]\n",
        "            if(cord == start):\n",
        "                path.append(start)\n",
        "                break\n",
        "    return finished,explored_nodes,path\n",
        "\n",
        "\n",
        "\n"
      ],
      "metadata": {
        "id": "zjJLSiY3V1u4"
      },
      "execution_count": null,
      "outputs": []
    },
    {
      "cell_type": "markdown",
      "source": [
        "# Execution section"
      ],
      "metadata": {
        "id": "ebeRsG8jWMg8"
      }
    },
    {
      "cell_type": "code",
      "execution_count": null,
      "metadata": {
        "id": "itQRrX6yEHvG",
        "colab": {
          "base_uri": "https://localhost:8080/"
        },
        "outputId": "9949deeb-bf54-44fd-eba6-88909d63871a"
      },
      "outputs": [
        {
          "output_type": "stream",
          "name": "stderr",
          "text": [
            "100%|██████████| 1000/1000 [05:38<00:00,  2.96it/s]"
          ]
        },
        {
          "output_type": "stream",
          "name": "stdout",
          "text": [
            "| finished   | algo   |   seconds |   n_explored |   length_path |   count |\n",
            "|:-----------|:-------|----------:|-------------:|--------------:|--------:|\n",
            "| False      | A-star | 0.0395179 |      2726.11 |       nan     |     430 |\n",
            "| False      | BFS    | 0.0307366 |      2725.14 |       nan     |     430 |\n",
            "| False      | DFS    | 0.0157145 |      2725.14 |       nan     |     430 |\n",
            "| False      | IDS    | 0.114261  |     14199.5  |       nan     |     430 |\n",
            "| False      | UCS    | 0.0343336 |      2725.14 |       nan     |     430 |\n",
            "| True       | A-star | 0.0429717 |      2998.56 |       212.393 |     570 |\n",
            "| True       | BFS    | 0.0790599 |      7108.25 |       212.393 |     570 |\n",
            "| True       | DFS    | 0.0258654 |      4331.54 |      1104.68  |     570 |\n",
            "| True       | IDS    | 0.111592  |     14336.3  |       961.442 |     570 |\n",
            "| True       | UCS    | 0.0896949 |      7114.04 |       212.393 |     570 |\n"
          ]
        },
        {
          "output_type": "stream",
          "name": "stderr",
          "text": [
            "\n",
            "/usr/local/lib/python3.7/dist-packages/ipykernel_launcher.py:75: FutureWarning: Indexing with multiple keys (implicitly converted to a tuple of keys) will be deprecated, use a list instead.\n"
          ]
        }
      ],
      "source": [
        "from collections import namedtuple #Like the dictionary type objects, it contains keys and that are mapped \n",
        "#to some values. In this case we can access the elements using keys and indexes.\n",
        "\n",
        "from functools import partial # You can create partial functions in python by using the partial function from \n",
        "#the functools library. Partial functions allow one to derive a function with x parameters to a function \n",
        "#with fewer parameters and fixed values set for the more limited function.\n",
        "\n",
        "from timeit import default_timer as timer\n",
        "import matplotlib.animation as ani\n",
        "import matplotlib.pyplot as plt\n",
        "import numpy as np\n",
        "import pandas as pd\n",
        "\n",
        "import tabulate #Tabulate is an open-source python package/module which is used to print \n",
        "#tabular data in nicely formatted tables\n",
        "\n",
        "import tqdm\n",
        "import os\n",
        "\n",
        "np.random.seed(0)\n",
        "\n",
        "SIZE = 100\n",
        "START = (0, 0) \n",
        "GOAL = (SIZE - 1, SIZE - 1)\n",
        "OBSTACLE_COUNT = SIZE ** 2 // 30\n",
        "OBSTACLE_SIZE = 7\n",
        "\n",
        "ALGOS = [\n",
        "    (\"DFS\", partial(dfs, start=START, goal=GOAL)),\n",
        "    (\"BFS\", partial(bfs, start=START, goal=GOAL)),\n",
        "    (\"UCS\", partial(ucs, start=START, goal=GOAL)),\n",
        "    (\"IDS\", partial(ids, start=START, goal=GOAL)),\n",
        "    (\n",
        "        \"A-star\",\n",
        "        partial(astar, start=START, goal=GOAL, heuristic=manhattan_heuristic(SIZE)),\n",
        "    ),\n",
        "]\n",
        "\n",
        "Result = namedtuple(\n",
        "    \"Result\", [\"round\", \"finished\", \"n_explored\", \"length_path\", \"seconds\", \"algo\"]\n",
        ")\n",
        "\n",
        "\n",
        "def simulate(n, max_good_mazes=float(\"inf\")):\n",
        "    results = []\n",
        "    good_mazes = []\n",
        "    for i in tqdm.tqdm(range(n), mininterval=1):\n",
        "        maze = create_maze(SIZE, OBSTACLE_COUNT, OBSTACLE_SIZE)\n",
        "        for algo_name, algo in ALGOS:\n",
        "            time_start = timer()\n",
        "            finished, explored_nodes, path = algo(maze)\n",
        "            time_end = timer()\n",
        "            r = Result(\n",
        "                round=i,\n",
        "                finished=finished,\n",
        "                n_explored=len(explored_nodes),\n",
        "                length_path=None if not finished else len(path),\n",
        "                seconds=time_end - time_start,\n",
        "                algo=algo_name,\n",
        "            )\n",
        "            results.append(r)\n",
        "            if finished and algo_name == ALGOS[0][0]:\n",
        "                good_mazes.append(maze)\n",
        "                if len(good_mazes) >= max_good_mazes:\n",
        "                    break\n",
        "\n",
        "    results_df = pd.DataFrame(results)\n",
        "    return results_df, good_mazes\n",
        "\n",
        "result_df, good_mazes = simulate(1000)\n",
        "\n",
        "\"\"\" for reference to print the results in a table format\"\"\"\n",
        "\n",
        "result_agg = result_df.groupby([\"finished\", \"algo\"])[\n",
        "    \"seconds\", \"n_explored\", \"length_path\"\n",
        "].mean()\n",
        "\n",
        "result_agg[\"count\"] = result_df.groupby([\"finished\", \"algo\"]).size()\n",
        "result_agg = result_agg.reset_index()\n",
        "\n",
        "print(tabulate.tabulate(result_agg.values, result_agg.columns, tablefmt=\"pipe\"))\n",
        "\n",
        "\n"
      ]
    },
    {
      "cell_type": "markdown",
      "source": [
        "# Graph plots & Observations\n",
        "\n",
        "---\n",
        "\n",
        "Plot graphs related to the various parameters of algorithms for the various test cases given in the next section. \n",
        "\n",
        "1.   Plot one graph, which compares the number of nodes explored by every algorithm, while solving the problem.\n",
        "\n",
        "2.  Plot another graph, comparing the total time taken by each algorithm to complete the execution. \n",
        "\n",
        "## Libraries for reference\n",
        "https://seaborn.pydata.org/\n",
        "\n",
        "https://matplotlib.org/stable/api/_as_gen/matplotlib.pyplot.html\n",
        "\n",
        "https://matplotlib.org/stable/tutorials/introductory/pyplot.html\n",
        "\n",
        "\n",
        " \n"
      ],
      "metadata": {
        "id": "YnkNtQFDc410"
      }
    },
    {
      "cell_type": "code",
      "source": [
        "\"\"\" graph plot code and observations\"\"\"\n",
        "import matplotlib.pyplot as plt\n",
        "import seaborn as sns\n",
        "\n",
        "# print(\"result_df = \",result_df)\n",
        "# algo_list=result_df.groupby([\"algo\"])\n",
        "\n",
        "# print(\"algo_list : \",algo_list)\n",
        "# time_taken=result_df.groupby([\"algo\"])[\"seconds\"]\n",
        "# ax = sns.barplot(x=algo_list,y=time_taken)\n",
        "\n",
        "\n",
        "# print(result_agg)\n",
        "\n",
        "time_taken={}\n",
        "node_explored={}\n",
        "\n",
        "\n",
        "for i in range(len(result_agg)):\n",
        "\n",
        "\n",
        "      time_taken[result_agg['algo'][i]]=result_agg['seconds'][i]\n",
        "      node_explored[result_agg['algo'][i]]=result_agg['n_explored'][i]\n",
        "\n",
        "ax = sns.barplot(x=list(node_explored.keys()),y=list(node_explored.values()))\n",
        "plt.title(\"Algo vs Total Nodes Explored\")\n",
        "plt.show()\n",
        "\n",
        "\n",
        "ax = sns.barplot(x=list(time_taken.keys()),y=list(time_taken.values()))\n",
        "\n",
        "plt.title(\"Algo vs Total Time \")\n",
        "plt.show()"
      ],
      "metadata": {
        "id": "gmlisxN_dSp9",
        "colab": {
          "base_uri": "https://localhost:8080/",
          "height": 545
        },
        "outputId": "dfc87de1-4b0d-46d5-ef8d-0be6d8f26c89"
      },
      "execution_count": null,
      "outputs": [
        {
          "output_type": "display_data",
          "data": {
            "image/png": "[encoded data removed]",
            "text/plain": [
              "<Figure size 432x288 with 1 Axes>"
            ]
          },
          "metadata": {
            "needs_background": "light"
          }
        },
        {
          "output_type": "display_data",
          "data": {
            "image/png": "[encoded data removed]",
            "text/plain": [
              "<Figure size 432x288 with 1 Axes>"
            ]
          },
          "metadata": {
            "needs_background": "light"
          }
        }
      ]
    },
    {
      "cell_type": "markdown",
      "source": [
        "Observations:\n",
        "\n",
        "\n",
        "1. The total number of explored nodes in IDS are maximum as compared to other algorithms and performance time is also worst as compared to other algorithms, because of always traversing from root node in each iteration of depth which leads to exponential time complexity.\n",
        "\n",
        "2. DFS and Astar performs well as compared to other algorithms in term of time complexity. DFS has less time than Astar but more number of explored nodes as compared to Astar.It is clearly visible from the plot that DFS and Astart both possess time vs space tradeoff. \n",
        "\n",
        "3. The performance time of BFS is less then IDS but more as compared to DFS and Astar because of lots of branching.\n",
        "\n",
        "4. The perfomance of BFS and UCS are similar because of unit edge weights in both algorithms. Although UCS takes more time because of priority queue data structre as compared to queue in BFS.\n",
        "\n",
        "5. Due to less number of walls dfs performs better then BFS as it does not stuck in longer depth branch but dfs can be slower due to explored unnecessary depth.\n",
        "\n",
        "6. Although DFS is uninformed search where Astar is informed search.Because of prior information about the goal As a better heuristic can lead to optimal solution where time taken and number of explored nodes both are minimal.\n",
        "\n"
      ],
      "metadata": {
        "id": "2TzHjQXRHs2p"
      }
    },
    {
      "cell_type": "markdown",
      "source": [
        "### Test Case 1:\n"
      ],
      "metadata": {
        "id": "EaSkBfP4LJbh"
      }
    },
    {
      "cell_type": "code",
      "source": [
        "START = (1, 1) \n",
        "GOAL = (SIZE - 1, SIZE - 1)\n",
        "result_df, good_mazes = simulate(1000)"
      ],
      "metadata": {
        "id": "_ZlgQFqvLHMJ",
        "colab": {
          "base_uri": "https://localhost:8080/"
        },
        "outputId": "2c0984a6-b1f3-488e-8988-097882532bef"
      },
      "execution_count": null,
      "outputs": [
        {
          "output_type": "stream",
          "name": "stderr",
          "text": [
            "100%|██████████| 1000/1000 [05:03<00:00,  3.30it/s]\n"
          ]
        }
      ]
    },
    {
      "cell_type": "markdown",
      "source": [
        "### Test Case 2"
      ],
      "metadata": {
        "id": "mpkj2e58TUaN"
      }
    },
    {
      "cell_type": "code",
      "source": [
        "START = (2, 0) \n",
        "GOAL = (SIZE - 1, SIZE - 1)\n",
        "result_df, good_mazes = simulate(1000)"
      ],
      "metadata": {
        "id": "my1GnnpjTUxl",
        "colab": {
          "base_uri": "https://localhost:8080/"
        },
        "outputId": "a1cf128e-bf77-4465-d0d7-0a34f3c6090b"
      },
      "execution_count": null,
      "outputs": [
        {
          "output_type": "stream",
          "name": "stderr",
          "text": [
            "100%|██████████| 1000/1000 [05:16<00:00,  3.16it/s]\n"
          ]
        }
      ]
    },
    {
      "cell_type": "markdown",
      "source": [
        "### Test Case 3"
      ],
      "metadata": {
        "id": "tZyD5cm7TUUF"
      }
    },
    {
      "cell_type": "code",
      "source": [
        "START = (1, 0) \n",
        "GOAL = (SIZE - 2, SIZE - 1)\n",
        "result_df, good_mazes = simulate(1000)"
      ],
      "metadata": {
        "id": "ztOHMB3FTUtF",
        "colab": {
          "base_uri": "https://localhost:8080/"
        },
        "outputId": "3a555c62-9c91-4f91-fbb8-d1bb7ac019d1"
      },
      "execution_count": null,
      "outputs": [
        {
          "output_type": "stream",
          "name": "stderr",
          "text": [
            "100%|██████████| 1000/1000 [05:35<00:00,  2.98it/s]\n"
          ]
        }
      ]
    },
    {
      "cell_type": "markdown",
      "source": [
        "### Test Case 4"
      ],
      "metadata": {
        "id": "GP_LgEreTUOs"
      }
    },
    {
      "cell_type": "code",
      "source": [
        "START = (3, 0) \n",
        "GOAL = (SIZE - 1, SIZE - 2)\n",
        "result_df, good_mazes = simulate(1000)"
      ],
      "metadata": {
        "id": "8GK_f9ilTUoN",
        "colab": {
          "base_uri": "https://localhost:8080/"
        },
        "outputId": "1d3789ec-61d1-447e-a285-85569c7f53a6"
      },
      "execution_count": null,
      "outputs": [
        {
          "output_type": "stream",
          "name": "stderr",
          "text": [
            "100%|██████████| 1000/1000 [05:37<00:00,  2.96it/s]\n"
          ]
        }
      ]
    },
    {
      "cell_type": "markdown",
      "source": [
        "### Test Case 5"
      ],
      "metadata": {
        "id": "TaBC8wtRTUF8"
      }
    },
    {
      "cell_type": "code",
      "source": [
        "START = (1, 3) \n",
        "GOAL = (SIZE - 1, SIZE - 3)\n",
        "result_df, good_mazes = simulate(1000)"
      ],
      "metadata": {
        "id": "fer1KlM_TWkW",
        "colab": {
          "base_uri": "https://localhost:8080/"
        },
        "outputId": "4ad0eb57-e377-4e20-a346-4711bdb7741c"
      },
      "execution_count": null,
      "outputs": [
        {
          "output_type": "stream",
          "name": "stderr",
          "text": [
            "100%|██████████| 1000/1000 [05:32<00:00,  3.00it/s]\n"
          ]
        }
      ]
    },
    {
      "cell_type": "markdown",
      "source": [
        "# Problem Statement 2 (40 marks)\n",
        "## So many Queens, how to manage?\n",
        "\n",
        "During a gladiatorial contests at the roman empire, a fine king invited all his queens to witness the valour of the gladiators. However, the queens were not in likings of one-another and must not see eye-to-eye. Your job as the \"Minister of Strategies\" in King's office is to create a sitting arrangement for all queens, while keeping in mind that no two queens are in the \"LINE OF SIGHT\" of one another i.e. the queens must be avoided to be in the same row or column or diagonally. \n",
        "\n",
        " The \"minister of Strategies\" had recently enrolled in the Class of Artificial Intellignece CS 512 and decided to use A* algorithm to solve the problem.\n",
        "\n",
        "\n",
        "Heuristic to be used for this problem is \" Number of attacked queens\", where if any new queen is placed in \"LINE of ATTACK\" of other queen, the Heuristic is incremented by 1, else it is unchanged. \n",
        "\n",
        "**Can you propose a better heuristic for this problem? If yes, then compare the performance of A* with your proposed and the given heuristic. [15 marks]**\n",
        "\n",
        "The G(n) function can be defined as the number of queens which are correctly placed at the given time. \n",
        "For eg:\n",
        "if the state is  \n",
        "0 0 1 0\n",
        "\n",
        "1 0 0 0\n",
        "\n",
        "1 0 0 0\n",
        "\n",
        "0 0 0 1 \n",
        "\n",
        "then only one queen is correctly placed while, three queens are in ATTACK mode.\n",
        "#### Reference image\n",
        "![8queen.png](data:image/png;base64,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)"
      ],
      "metadata": {
        "id": "Ecuj940rVmvA"
      }
    },
    {
      "cell_type": "markdown",
      "source": [
        "\n",
        "To solve this problem correctly. define the Heuristic function correctly, Apply A* agorithm to it and print the following information for each trial. Number of nodes explored, Optimal path cost, Total time taken for execution. [25 marks]"
      ],
      "metadata": {
        "id": "s827GCL0suVP"
      }
    },
    {
      "cell_type": "markdown",
      "source": [
        "Consider in total, 5 trials,\n",
        "\n",
        " \n",
        "\n",
        "---\n",
        "\n",
        "\n",
        "\n",
        "1.   you have 4 queens in a 4x4 seating space.\n",
        "2.   you have 5 queens in a 5x5 seating space.\n",
        "3.   you have 6 queens in a 6x6 seating space.\n",
        "4.  you have 7 queens in a 7x7 seating space.\n",
        "5.  you have 8 queens in a 8x8 seating space.\n",
        "5.  you have 9 queens in a 9x9 seating space.\n",
        "5.  you have 10 queens in a 10x10 seating space.\n",
        "\n",
        "----\n"
      ],
      "metadata": {
        "id": "3Dgf3EzdtZAl"
      }
    },
    {
      "cell_type": "markdown",
      "source": [
        "In the end, plot a graph with all five trials in X-axis and following metrices in Y axis,\n",
        " * The number of nodes explored \n",
        " * Optimnal path cost \n",
        " * Total time taken by A* algorithm "
      ],
      "metadata": {
        "id": "83JzXB1zt8cb"
      }
    },
    {
      "cell_type": "markdown",
      "source": [
        "#### Trial 1: 4 queens"
      ],
      "metadata": {
        "id": "To1CKMAdvExX"
      }
    },
    {
      "cell_type": "code",
      "source": [
        "# Code to generate a 2D grid world.\n",
        "# 0 represents empty position and 1 will denote that a queen currently occupy the given position. \n",
        "# arr=np.zeros((size,size))\n",
        "# size=4\n",
        "# for i in range(size):\n",
        "#   for j in range(size):\n",
        "#     arr[i][j]= 0\n",
        "\n"
      ],
      "metadata": {
        "id": "T3xcLUcYtTz0"
      },
      "execution_count": null,
      "outputs": []
    },
    {
      "cell_type": "markdown",
      "source": [
        "#### Trial 2: 5 queens"
      ],
      "metadata": {
        "id": "n5oHI-SrvRhj"
      }
    },
    {
      "cell_type": "code",
      "source": [
        "# Code to generate a 2D grid world.\n",
        "# 0 represents empty position and 1 will denote that a queen currently occupy the given position. \n",
        "# size=5\n",
        "# for i in range(size):\n",
        "#   for j in range(size):\n",
        "#     arr[i][j]= 0\n"
      ],
      "metadata": {
        "id": "LOSYPryLvN9B"
      },
      "execution_count": null,
      "outputs": []
    },
    {
      "cell_type": "markdown",
      "source": [
        "#### Trial 3: 6 queens"
      ],
      "metadata": {
        "id": "-lAAy4-7vNva"
      }
    },
    {
      "cell_type": "code",
      "source": [
        "# Code to generate a 2D grid world.\n",
        "# 0 represents empty position and 1 will denote that a queen currently occupy the given position. \n",
        "# size=6\n",
        "# for i in range(size):\n",
        "#   for j in range(size):\n",
        "#     arr[i][j]= 0\n"
      ],
      "metadata": {
        "id": "3ycNWOfWvNii"
      },
      "execution_count": null,
      "outputs": []
    },
    {
      "cell_type": "markdown",
      "source": [
        "#### Trial 4: 7 queens"
      ],
      "metadata": {
        "id": "l04jfgLyvNW0"
      }
    },
    {
      "cell_type": "code",
      "source": [
        "# Code to generate a 2D grid world.\n",
        "# 0 represents empty position and 1 will denote that a queen currently occupy the given position. \n",
        "# size=7\n",
        "# for i in range(size):\n",
        "#   for j in range(size):\n",
        "#     arr[i][j]= 0\n"
      ],
      "metadata": {
        "id": "9B2LK3SGvM_g"
      },
      "execution_count": null,
      "outputs": []
    },
    {
      "cell_type": "markdown",
      "source": [
        "#### Trial 5: 8 queens"
      ],
      "metadata": {
        "id": "QvRBneJMvM0G"
      }
    },
    {
      "cell_type": "code",
      "source": [
        "# Code to generate a 2D grid world.\n",
        "# 0 represents empty position and 1 will denote that a queen currently occupy the given position. \n",
        "# size=8\n",
        "# for i in range(size):\n",
        "#   for j in range(size):\n",
        "#     arr[i][j]= 0\n"
      ],
      "metadata": {
        "id": "RbO63qGFvMnQ"
      },
      "execution_count": null,
      "outputs": []
    },
    {
      "cell_type": "markdown",
      "source": [
        "#### Trial 6: 9 queens"
      ],
      "metadata": {
        "id": "YuEmOyNXKaY0"
      }
    },
    {
      "cell_type": "code",
      "source": [
        "# Code to generate a 2D grid world\n",
        "# 0 represents empty position and 1 will denote that a queen currently occupy the given position. \n",
        "# size= 9\n",
        "# for i in range(size):\n",
        "#   for j in range(size):\n",
        "#     arr[i][j]= 0"
      ],
      "metadata": {
        "id": "IujVrjEzKiew"
      },
      "execution_count": null,
      "outputs": []
    },
    {
      "cell_type": "markdown",
      "source": [
        "#### Trial 7: 10 queens"
      ],
      "metadata": {
        "id": "lpMp5CDVKdbK"
      }
    },
    {
      "cell_type": "code",
      "source": [
        "# Code to generate a 2D grid world.\n",
        "# 0 represents empty position and 1 will denote that a queen currently occupy the given position. \n",
        "# size= 10\n",
        "# for i in range(size):\n",
        "#   for j in range(size):\n",
        "#     arr[i][j]= 0"
      ],
      "metadata": {
        "id": "O8Rbzve5KnkQ"
      },
      "execution_count": null,
      "outputs": []
    },
    {
      "cell_type": "markdown",
      "source": [
        "Define heuristics"
      ],
      "metadata": {
        "id": "ijHLUVxavMcZ"
      }
    },
    {
      "cell_type": "code",
      "source": [
        "# def queen_heuristic(state,goal):\n",
        "\n",
        "\n",
        "\n",
        "def conflict_exist(cord_a,cord_b):\n",
        "    return (cord_a[0] == cord_b[0] or cord_a[1] == cord_b[1] or (abs(cord_a[0] - cord_b[0]) == abs(cord_a[1] - cord_b[1]) )) \n",
        "    \n",
        "def queen_heuristic(queen_cords,board_length):\n",
        "    \n",
        "    # print(\"child state : \",queen_cords)\n",
        "    number_of_queens_attacked = 0\n",
        "    for i in range(len(queen_cords)):\n",
        "        for j in range(len(queen_cords)):\n",
        "            if i!=j and conflict_exist(queen_cords[i],queen_cords[j]):\n",
        "                number_of_queens_attacked += 1\n",
        "                break\n",
        "    return number_of_queens_attacked\n",
        "\n",
        "  #### Your code Here #####\n",
        "  "
      ],
      "metadata": {
        "id": "14iZ0N2-sd3M"
      },
      "execution_count": null,
      "outputs": []
    },
    {
      "cell_type": "code",
      "source": [
        "# def new_heuristic(state,goal): # defining a new heuristics \n",
        "def path_between_queens(cord_a, cord_b):\n",
        "    # print(cord_a,cord_b)\n",
        "    path = []\n",
        "\n",
        "    if cord_a[0] == cord_b[0] and cord_a[1] != cord_b[1]:  # same row\n",
        "        x = cord_a[0]\n",
        "        low = min(cord_a[1], cord_b[1])\n",
        "        high = max(cord_a[1], cord_b[1])\n",
        "        while low < high-1:\n",
        "            path.append((x, low+1))\n",
        "            low = low + 1\n",
        "\n",
        "        return path\n",
        "\n",
        "    elif cord_a[1] == cord_b[1] and cord_a[0]!= cord_b[0]:  # same col\n",
        "\n",
        "        y = cord_a[1]\n",
        "\n",
        "        low = min(cord_a[0], cord_b[0])\n",
        "        high = max(cord_a[0], cord_b[0])\n",
        "\n",
        "        while low < high-1:\n",
        "            path.append((low+1, y))\n",
        "            low = low + 1\n",
        "\n",
        "        return path\n",
        "\n",
        "    else:\n",
        "        x1 = cord_a[0]\n",
        "        y1 = cord_a[1]\n",
        "        x2 = cord_b[0]\n",
        "        y2 = cord_b[1]\n",
        "\n",
        "        # print(\"x1 = \",x1)\n",
        "        # print(\"x2 = \",x2)\n",
        "        # print(\"y1 = \",y1)\n",
        "        # print(\"y2 = \",y2)\n",
        "        # y2 =\n",
        "        # path = []\n",
        "        if x1 > x2 and y1 > y2:\n",
        "        \t# if y1 > y2:\n",
        "                diff = abs(y1 - y2)\n",
        "                tx = x2\n",
        "                ty = y2\n",
        "                while (diff > 1):\n",
        "                    tx = tx+1\n",
        "                    ty = ty+1\n",
        "                    path.append((tx,ty))\n",
        "                    diff = diff - 1\n",
        "        elif x1 > x2 and y1 < y2:\n",
        "        \t# else:\n",
        "            diff = abs(y1 - y2)\n",
        "            tx = x2\n",
        "            ty = y2\n",
        "            while (diff > 1):\n",
        "                tx = tx+1\n",
        "                ty = ty-1\n",
        "                path.append((tx,ty))\n",
        "                diff = diff -1\n",
        "        elif x1 < x2 and y1 > y2:\n",
        "            diff = abs(y1 - y2)\n",
        "            tx = x1\n",
        "            ty = y1\n",
        "            while (diff > 1):\n",
        "                tx = tx+1\n",
        "                ty = ty-1\n",
        "                diff = diff - 1\n",
        "        elif x1 < x2 and y1 < y2:\n",
        "                diff = abs(y1 - y2)\n",
        "                tx = x2\n",
        "                ty = y2\n",
        "                while diff > 1:\n",
        "                    tx = tx-1\n",
        "                    ty = ty-1\n",
        "                    path.append((tx,ty))\n",
        "                    diff = diff -1\n",
        "        return path\n",
        "\n",
        "\n",
        "\n",
        "\n",
        "def is_attacking(state, cord_a, cord_b):\n",
        "    if (cord_a[0] == cord_b[0] or cord_a[1] == cord_b[1] or (abs(cord_a[0] - cord_b[0]) == abs(cord_a[1] - cord_b[1]))):\n",
        "        path = path_between_queens(cord_a,cord_b)\n",
        "        # for cord in path:\n",
        "        #     if cord in set(state):\n",
        "        #         return False\n",
        "        \n",
        "        if len(set(state).intersection(set(path))) > 0:\n",
        "            return False\n",
        "        return True\n",
        "    else:\n",
        "        return False\n",
        "\n",
        "\n",
        "\n",
        "# def conflict(board):\n",
        "#     n = len(board)\n",
        "\n",
        "#     row_frequency = [0] * n\n",
        "#     main_diag_frequency = [0] * (2 * n)\n",
        "#     secondary_diag_frequency = [0] * (2 * n)\n",
        "\n",
        "#     for i in range(n):\n",
        "#         row_frequency[board[i]] += 1\n",
        "#         main_diag_frequency[board[i] + i] += 1\n",
        "#         secondary_diag_frequency[n - board[i] + i] += 1\n",
        "\n",
        "#     # print(row_frequency)\n",
        "#     # print(main_diag_frequency)\n",
        "#     # print(secondary_diag_frequency)\n",
        "\n",
        "#     conflicts = 0\n",
        "#     # formula: (N * (N - 1)) / 2\n",
        "#     for i in range(2*n):\n",
        "#         if i < n:\n",
        "#             conflicts += (row_frequency[i] * (row_frequency[i]-1)) / 2\n",
        "#         conflicts += (main_diag_frequency[i] * (main_diag_frequency[i]-1)) / 2\n",
        "#         conflicts += (secondary_diag_frequency[i]\n",
        "#                       * (secondary_diag_frequency[i]-1)) / 2\n",
        "#     return int(conflicts)\n",
        "\n",
        "\n",
        "def new_queen_heuristic(state, board_length):\n",
        "\n",
        "    attacking_pair = 0\n",
        "\n",
        "    # board = [0]*board_length\n",
        "    # for row,col in state:\n",
        "    #   board[row] = col\n",
        "\n",
        "    l = deepcopy(state)\n",
        "\n",
        "    while len(l) > 0:\n",
        "        a = l.pop()\n",
        "        # print(\"a = \",a)\n",
        "        for b in l:\n",
        "            # print(\"b = \",b)\n",
        "            if is_attacking(state, a, b):\n",
        "                attacking_pair += 1\n",
        "    return attacking_pair\n",
        "\n",
        "    # return conflict(board)\n"
      ],
      "metadata": {
        "id": "316PU2nFKDrM"
      },
      "execution_count": null,
      "outputs": []
    },
    {
      "cell_type": "markdown",
      "source": [
        "Your solution using A*"
      ],
      "metadata": {
        "id": "_G7Q1rK8G_sk"
      }
    },
    {
      "cell_type": "code",
      "source": [
        "# from typing import FrozenSet\n",
        "# Your code goes here\n",
        "\n",
        "# size = 10\n",
        "\n",
        "\n",
        "\n",
        "def goal_test(state,heuristic):\n",
        "    heuristic_val = heuristic(state, size)\n",
        "    # print(\"nunmber of queen attacked = \",heuristic_val,state)\n",
        "    if heuristic_val == 0:\n",
        "        return True\n",
        "    else:\n",
        "        return False\n",
        "\n",
        "\n",
        "def get_child_states(state, size):\n",
        "    child_states = []\n",
        "    parent_state = state\n",
        "    for q_index, queen in enumerate(parent_state):\n",
        "        new_positions = [(queen[0], row)\n",
        "                         for row in range(size) if row != queen[1]]\n",
        "        for new_position in new_positions:\n",
        "            queen_positions = deepcopy(parent_state)\n",
        "            queen_positions[q_index] = new_position\n",
        "            child_states.append(queen_positions)\n",
        "    return child_states\n",
        "\n",
        "\n",
        "def already_visited(visited, key):\n",
        "\n",
        "    if key in visited.keys():\n",
        "        return True\n",
        "    else:\n",
        "        return False\n",
        "\n",
        "def generate_random_board_state(size):\n",
        "    cols = list(range(size))\n",
        "\n",
        "    queen_cords = [(cols.pop(random.randrange(len(cols))), random.randrange(size)) for _ in\n",
        "                   range(size)]\n",
        "    return queen_cords\n",
        "\n",
        "def state_cost(state,size):\n",
        "  number_of_queens_correctly_placed = 0\n",
        "\n",
        "  nummber_of_queens_attacked = 0\n",
        "\n",
        "  val = queen_heuristic(state,size)\n",
        "\n",
        "  number_of_queen_correctly_placed = size - val \n",
        "  return number_of_queens_correctly_placed\n",
        "\n",
        "def n_queen_astar(start_state,size,heuristic):\n",
        "    # start_state = generate_random_board_state(size)\n",
        "    # state = [(0,1),(1,1),(2,0),(3,2)]\n",
        "    # state = [(0, 3), (3, 2), (2, 1), (1, 1)]\n",
        "    # print(\"state : \",state)\n",
        "    path = []\n",
        "    cost = state_cost(start_state, size)\n",
        "    # print(\"cost : \",cost)\n",
        "    p_q = PriorityQueue()\n",
        "    visited = {}\n",
        "    came_from = {}\n",
        "    cost_so_far = {}\n",
        "    explored_nodes = []\n",
        "    p_q.put((cost, start_state))\n",
        "    visited[frozenset(start_state)] = True\n",
        "    came_from[frozenset(start_state)] = None\n",
        "\n",
        "    start_state_cost = state_cost(start_state,size)\n",
        "\n",
        "    cost_so_far[frozenset(start_state)] = cost\n",
        "    finished = False\n",
        "    goal_state = None\n",
        "    # print(\"visited: \",visited)\n",
        "    while(p_q.empty() == False):\n",
        "        # print(\"length of queue = \",p_q.qsize())\n",
        "        curr_cost, curr_state = p_q.get()\n",
        "        # print(\"popped_cost = \",curr_cost)\n",
        "        explored_nodes.append(curr_state)\n",
        "\n",
        "        if goal_test(curr_state,heuristic):\n",
        "            # print(\"found : \",curr_state)\n",
        "            finished = True\n",
        "            goal_state = curr_state\n",
        "            break\n",
        "            # return True,curr_state,explored_nodes,came_from\n",
        "        else:\n",
        "            child_states = get_child_states(curr_state, size)\n",
        "            # print(\"child_states : \", child_states )\n",
        "            # print(\"length : \", len(child_states))\n",
        "            for child in child_states:\n",
        "                new_cost = cost_so_far[frozenset(curr_state)] + state_cost(curr_state,size)\n",
        "                # if already_visited(visited,frozenset(child)) == False\n",
        "\n",
        "                if already_visited(visited, frozenset(child)) == False or new_cost < cost_so_far[frozenset(child)]:\n",
        "                    p_q.put((new_cost+heuristic(child, size), child))\n",
        "                    cost_so_far[frozenset(child)] = new_cost\n",
        "                    visited[frozenset(child)] = True\n",
        "                    came_from[frozenset(child)] = curr_state\n",
        "            # print(\"p_q = \",p_q.qsize())\n",
        "            # print(\"visited : \",visited)\n",
        "    total_cost = 0\n",
        "    if(finished):\n",
        "        cord = goal_state\n",
        "        total_cost += cost_so_far[frozenset(cord)]\n",
        "        while True:\n",
        "            path.append(cord)\n",
        "            # path.add(frozenset(cord))\n",
        "            cord = came_from[frozenset(cord)]\n",
        "            total_cost += cost_so_far[frozenset(cord)]\n",
        "            if(cord == start_state):\n",
        "                path.append(start_state)\n",
        "                # path.add(frozenset(start_state))\n",
        "                break\n",
        "    return finished, goal_state, explored_nodes, path,total_cost\n",
        "\n",
        "\n"
      ],
      "metadata": {
        "id": "qZGBv-FvHETp"
      },
      "execution_count": null,
      "outputs": []
    },
    {
      "cell_type": "code",
      "source": [
        "\n",
        "\n",
        "\n",
        "\n",
        "time_taken=[]\n",
        "node_exp = []\n",
        "path_cost=[]\n",
        "\n",
        "min_size = 4\n",
        "max_size = 11\n",
        "\n",
        "\n",
        "size_type=[]\n",
        "heuristic_type=[]\n",
        "goal = []\n",
        "\n",
        "\n",
        "\n",
        "\n",
        "for size in range(min_size,max_size):\n",
        "\n",
        "    start_state = generate_random_board_state(size)\n",
        "    time_start = timer()\n",
        "    finished,goal_state,explored_nodes,path,total_cost = n_queen_astar(start_state,size,queen_heuristic)\n",
        "    time_end = timer()\n",
        "    time_taken.append(time_end-time_start)\n",
        "    node_exp.append(len(explored_nodes))\n",
        "    path_cost.append(len(path))\n",
        "    size_type.append(size)\n",
        "    heuristic_type.append('old_heuristic')\n",
        "    goal.append(goal_state)\n",
        "\n",
        "    time_start_new = timer()\n",
        "    finished_new,goal_state_new,explored_nodes_new,path_new,total_cost_new = n_queen_astar(start_state,size,new_queen_heuristic)\n",
        "    time_end_new = timer()\n",
        "\n",
        "    time_taken.append(time_end_new-time_start_new)\n",
        "    node_exp.append(len(explored_nodes_new))\n",
        "    path_cost.append(len(path_new))\n",
        "    size_type.append(size)\n",
        "    heuristic_type.append('new_heuristic')\n",
        "    goal.append(goal_state_new)\n",
        "\n",
        "# df = pd.DataFrame({ 'size_type': size_type ,'time_taken': time_taken,  'explored_state': node_exp , 'path_cost': path_cost, 'heuristic_type': heuristic_type })\n",
        "\n",
        "# print(df)\n",
        "\n",
        "# for size in range(min_size,max_size):\n",
        "#     time_start = timer()\n",
        "#     finished,goal_state,explored_nodes,path,total_cost = n_queen_astar(size,new_queen_heuristic)\n",
        "#     time_end = timer()\n",
        "#     time_taken.append(time_end-time_start)\n",
        "#     node_exp.append(len(explored_nodes))\n",
        "#     path_cost.append(total_cost)\n",
        "#     size_type.append(size)\n",
        "#     heuristic_type.append('new_heuristic')\n",
        "#     goal.append(goal_state)\n",
        "\n",
        "\n",
        "df = pd.DataFrame({ 'size_type': size_type ,'time_taken': time_taken,  'explored_state': node_exp , 'path_cost': path_cost, 'heuristic_type': heuristic_type })\n",
        "\n",
        "# df.head()\n",
        "print(df)\n",
        "\n",
        "\n",
        "ax = sns.barplot(x=size_type,y=time_taken, hue=heuristic_type)\n",
        "plt.title(\"Board size vs Total Time. \")\n",
        "plt.show()\n",
        "\n",
        "\n",
        "ax = sns.barplot(x=size_type,y=node_exp, hue=heuristic_type)\n",
        "plt.title(\"Board size vs Node_explored. \")\n",
        "plt.show()\n",
        "\n",
        "ax = sns.barplot(x=size_type,y=path_cost, hue=heuristic_type)\n",
        "plt.title(\"Board size vs Optimal path cost. \")\n",
        "plt.show()\n",
        "\n"
      ],
      "metadata": {
        "colab": {
          "base_uri": "https://localhost:8080/",
          "height": 1000
        },
        "id": "o3PHKbl0OU4O",
        "outputId": "c64de6e6-e05d-4665-b939-1465a683e07a"
      },
      "execution_count": null,
      "outputs": [
        {
          "output_type": "stream",
          "name": "stdout",
          "text": [
            "    size_type  time_taken  explored_state  path_cost heuristic_type\n",
            "0           4    0.002010               4          4  old_heuristic\n",
            "1           4    0.001960               4          4  new_heuristic\n",
            "2           5    0.003267               5          5  old_heuristic\n",
            "3           5    0.005619               5          5  new_heuristic\n",
            "4           6    0.012265               8          8  old_heuristic\n",
            "5           6    0.017382               8          8  new_heuristic\n",
            "6           7    0.013737               6          6  old_heuristic\n",
            "7           7    0.025622               7          7  new_heuristic\n",
            "8           8    0.081304              16         14  old_heuristic\n",
            "9           8    0.041501               7          7  new_heuristic\n",
            "10          9    0.235324              29         19  old_heuristic\n",
            "11          9    0.295315              29         19  new_heuristic\n",
            "12         10    0.555024              44         22  old_heuristic\n",
            "13         10    0.652743              44         23  new_heuristic\n"
          ]
        },
        {
          "output_type": "display_data",
          "data": {
            "image/png": "[encoded data removed]",
            "text/plain": [
              "<Figure size 432x288 with 1 Axes>"
            ]
          },
          "metadata": {
            "needs_background": "light"
          }
        },
        {
          "output_type": "display_data",
          "data": {
            "image/png": "[encoded data removed]",
            "text/plain": [
              "<Figure size 432x288 with 1 Axes>"
            ]
          },
          "metadata": {
            "needs_background": "light"
          }
        },
        {
          "output_type": "display_data",
          "data": {
            "image/png": "[encoded data removed]",
            "text/plain": [
              "<Figure size 432x288 with 1 Axes>"
            ]
          },
          "metadata": {
            "needs_background": "light"
          }
        }
      ]
    },
    {
      "cell_type": "code",
      "source": [],
      "metadata": {
        "id": "7BHGlcqumR8C"
      },
      "execution_count": null,
      "outputs": []
    },
    {
      "cell_type": "markdown",
      "source": [
        "Observations:\n",
        "\n",
        "1. Astar performs better as compared to exhaustive search as we can use the prior information of the goal state that each queen lie on the different rows then generate child state accordingly.\n",
        "\n",
        "2. A New heuristic will be finding the number of attacking pairs (where other queens also considers as obstacles) will provide the more accurate value as compared to number of queens attacked. \n",
        "consider the case where all queens (Q1,Q2,Q3,Q4) placed on diagonal for 4x4 size.In such case number of queens attacked are 4 but the number of attacking pairs are only 3((Q1,Q2),(Q2,Q3)(Q3,Q4)).Here Q1 can not attack Q3 because Q2 act as obstacle in between Q1 and Q2.Hence it is more accurate than finding number of queens attacks only where no obstacles are taken into consideration rather then it won't have much impact for smaller values of N.\n",
        "But time computation for number of attacking pairs with obstacle consideration is more as compared to previous heuristic but number of states explored less in most of the cases.\n",
        "\n"
      ],
      "metadata": {
        "id": "8345helMZQN3"
      }
    },
    {
      "cell_type": "code",
      "source": [],
      "metadata": {
        "id": "aculfiaUzpr7"
      },
      "execution_count": null,
      "outputs": []
    }
  ]
}